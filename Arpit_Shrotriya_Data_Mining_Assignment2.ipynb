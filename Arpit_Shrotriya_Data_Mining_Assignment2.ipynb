{
  "nbformat": 4,
  "nbformat_minor": 0,
  "metadata": {
    "colab": {
      "provenance": []
    },
    "kernelspec": {
      "name": "python3",
      "display_name": "Python 3"
    },
    "language_info": {
      "name": "python"
    }
  },
  "cells": [
    {
      "cell_type": "code",
      "execution_count": null,
      "metadata": {
        "id": "6N-kO8dsmt0V"
      },
      "outputs": [],
      "source": [
        "import time\n",
        "import itertools\n",
        "import pandas as pd\n",
        "from collections import defaultdict"
      ]
    },
    {
      "cell_type": "code",
      "source": [
        "print(\"##########################################################################################################\")\n",
        "print(\"Welcome!!!!!!!!!!\")\n",
        "print(\"---------------------------------------------------------------------------------------------------------\")\n",
        "n = int(input(\"\\nSelect the Supermarket: \\n1.Amazon \\n2.K-Mart \\n3.Shoprite \\n4.Target \\n5.Walmart \\n[1-5]\"))\n",
        "min_support = float(input(\"\\nEnter Minimum Support (Enter Float Value Between 0-1)\"))\n",
        "min_confidence = float(input(\"\\nEnter Minimum Confidence (Enter Float Value Between 0-1)\"))\n",
        "if (n==1):\n",
        "  df = pd.read_csv(\"Amazon_transactions_final.csv\")\n",
        "elif (n==2):\n",
        "  df = pd.read_csv(\"K-Mart_transactions_final.csv\")\n",
        "elif (n==3):\n",
        "  df = pd.read_csv(\"Shoprite_transactions_final.csv\")\n",
        "elif (n==4):\n",
        "  df = pd.read_csv(\"Target_transactions_final.csv\")\n",
        "elif (n==5):\n",
        "  df = pd.read_csv(\"Walmart_transactions_final.csv\")"
      ],
      "metadata": {
        "id": "1jLQ3nCNUU2R",
        "colab": {
          "base_uri": "https://localhost:8080/"
        },
        "outputId": "d17733a2-b3bf-4046-ab95-9a80205b1868"
      },
      "execution_count": null,
      "outputs": [
        {
          "output_type": "stream",
          "name": "stderr",
          "text": [
            "/usr/local/lib/python3.10/dist-packages/ipykernel/ipkernel.py:283: DeprecationWarning: `should_run_async` will not call `transform_cell` automatically in the future. Please pass the result to `transformed_cell` argument and any exception that happen during thetransform in `preprocessing_exc_tuple` in IPython 7.17 and above.\n",
            "  and should_run_async(code)\n"
          ]
        },
        {
          "name": "stdout",
          "output_type": "stream",
          "text": [
            "##########################################################################################################\n",
            "Welcome!!!!!!!!!!\n",
            "Select the Supermarket: \n",
            "1.Amazon \n",
            "2.K-Mart \n",
            "3.Shoprite \n",
            "4.Target \n",
            "5.Walmart \n",
            "[1-5]5\n",
            "Enter Minimum Support (Enter Float Value Between 0-1)0.2\n",
            "Enter Minimum Confidence (Enter Float Value Between 0-1)0.6\n"
          ]
        }
      ]
    },
    {
      "cell_type": "code",
      "source": [
        "transactions = df['Transaction'].apply(lambda x: x.split(', ')).tolist()\n",
        "all_items = sorted(set(item for transaction in transactions for item in transaction))\n",
        "#print(transactions)\n",
        "#print(len(transactions))\n",
        "#print(all_items)"
      ],
      "metadata": {
        "colab": {
          "base_uri": "https://localhost:8080/"
        },
        "id": "rXfMtNUcNwr1",
        "outputId": "fad5e5b2-dcbb-4cd9-84eb-d7b91251631c"
      },
      "execution_count": null,
      "outputs": [
        {
          "output_type": "stream",
          "name": "stderr",
          "text": [
            "/usr/local/lib/python3.10/dist-packages/ipykernel/ipkernel.py:283: DeprecationWarning: `should_run_async` will not call `transform_cell` automatically in the future. Please pass the result to `transformed_cell` argument and any exception that happen during thetransform in `preprocessing_exc_tuple` in IPython 7.17 and above.\n",
            "  and should_run_async(code)\n"
          ]
        }
      ]
    },
    {
      "cell_type": "code",
      "source": [
        "# Brute Force Method\n",
        "\n",
        "def calculate_support(itemset, transactions):\n",
        "  count = 0\n",
        "  for transaction in transactions:\n",
        "    if set(itemset).issubset(set(transaction)):\n",
        "      count += 1\n",
        "  return count / len(transactions)\n",
        "\n",
        "\n",
        "\n",
        "def find_frequent_itemsets(transactions, all_items, min_support):\n",
        "  k = 1\n",
        "  frequent_itemsets = []\n",
        "  candidate_itemsets = all_items\n",
        "\n",
        "  while candidate_itemsets:\n",
        "    print(f'Generating {k}-itemsets')\n",
        "    current_frequent_itemsets = []\n",
        "    if k==1:\n",
        "      candidate_itemsets = [[item] for item in candidate_itemsets]\n",
        "    else:\n",
        "      candidate_itemsets = [list(itemset) for itemset in itertools.combinations(all_items, k)]\n",
        "\n",
        "    for itemset in candidate_itemsets:\n",
        "      support = calculate_support(itemset, transactions)\n",
        "      if support >= min_support:\n",
        "        current_frequent_itemsets.append((itemset, support))\n",
        "\n",
        "    if not current_frequent_itemsets:\n",
        "      break\n",
        "\n",
        "    frequent_itemsets.extend(current_frequent_itemsets)\n",
        "    k += 1\n",
        "\n",
        "  return frequent_itemsets\n"
      ],
      "metadata": {
        "id": "B7MWqzCmOcuL",
        "colab": {
          "base_uri": "https://localhost:8080/"
        },
        "outputId": "aa16fd41-e39d-434b-8c02-2cfca379ebc5"
      },
      "execution_count": null,
      "outputs": [
        {
          "output_type": "stream",
          "name": "stderr",
          "text": [
            "/usr/local/lib/python3.10/dist-packages/ipykernel/ipkernel.py:283: DeprecationWarning: `should_run_async` will not call `transform_cell` automatically in the future. Please pass the result to `transformed_cell` argument and any exception that happen during thetransform in `preprocessing_exc_tuple` in IPython 7.17 and above.\n",
            "  and should_run_async(code)\n"
          ]
        }
      ]
    },
    {
      "cell_type": "code",
      "source": [
        "def generate_association_rules(frequent_itemsets, transactions, min_confidence):\n",
        "  rules = []\n",
        "  for itemset, support in frequent_itemsets:\n",
        "    if len(itemset) < 2:\n",
        "      continue\n",
        "    for i in range(1, len(itemset)):\n",
        "      for antecedent in itertools.combinations(itemset, i):\n",
        "        consequent = list(set(itemset) - set(antecedent))\n",
        "        antecedent_support = calculate_support(antecedent, transactions)\n",
        "        if antecedent_support > 0:\n",
        "          confidence = support / antecedent_support\n",
        "          if confidence >= min_confidence:\n",
        "            rules.append((antecedent, consequent, confidence))\n",
        "\n",
        "  return rules\n"
      ],
      "metadata": {
        "id": "1sXKSGVvplxv",
        "colab": {
          "base_uri": "https://localhost:8080/"
        },
        "outputId": "1b0fedf1-d798-477b-87f3-57ceede93dfd"
      },
      "execution_count": null,
      "outputs": [
        {
          "output_type": "stream",
          "name": "stderr",
          "text": [
            "/usr/local/lib/python3.10/dist-packages/ipykernel/ipkernel.py:283: DeprecationWarning: `should_run_async` will not call `transform_cell` automatically in the future. Please pass the result to `transformed_cell` argument and any exception that happen during thetransform in `preprocessing_exc_tuple` in IPython 7.17 and above.\n",
            "  and should_run_async(code)\n"
          ]
        }
      ]
    },
    {
      "cell_type": "code",
      "source": [
        "# Brute Force Method\n",
        "\n",
        "start_time = time.perf_counter()\n",
        "frequent_itemsets = find_frequent_itemsets(transactions, all_items, min_support)\n",
        "end_time = time.perf_counter()\n",
        "brute_force_time = end_time - start_time\n",
        "\n",
        "\n",
        "#print(f\"Brute Force Time : {brute_force_time}\")\n",
        "frequent_itemsets_dict = {tuple(itemset): support for itemset, support in frequent_itemsets}\n",
        "#print(frequent_itemsets)\n",
        "print(\"\\nFrequent Itemsets (Brute Force):\")\n",
        "for itemset, support in frequent_itemsets:\n",
        "  print(f\"Itemset: {itemset}, Support: {support}\")"
      ],
      "metadata": {
        "colab": {
          "base_uri": "https://localhost:8080/"
        },
        "id": "57gdXrhrtVvw",
        "outputId": "40e55ca7-10ac-4d4f-dc17-39f945beab68"
      },
      "execution_count": 30,
      "outputs": [
        {
          "output_type": "stream",
          "name": "stdout",
          "text": [
            "Generating 1-itemsets\n",
            "Generating 2-itemsets\n",
            "Generating 3-itemsets\n",
            "Generating 4-itemsets\n",
            "Brute Force Time : 0.02264947699950426\n",
            "Itemset: ['Anti-Virus'], Support: 0.28\n",
            "Itemset: ['Desk Top'], Support: 0.36\n",
            "Itemset: ['Digital Camera'], Support: 0.36\n",
            "Itemset: ['External Hard-Drive'], Support: 0.24\n",
            "Itemset: ['Flash Drive'], Support: 0.4\n",
            "Itemset: ['Lab Top'], Support: 0.64\n",
            "Itemset: ['Lab Top Case'], Support: 0.4\n",
            "Itemset: ['Microsoft Office'], Support: 0.36\n",
            "Itemset: ['Printer'], Support: 0.36\n",
            "Itemset: ['Speakers'], Support: 0.36\n",
            "Itemset: ['Anti-Virus', 'Lab Top'], Support: 0.2\n",
            "Itemset: ['Desk Top', 'Lab Top'], Support: 0.2\n",
            "Itemset: ['Digital Camera', 'Lab Top'], Support: 0.24\n",
            "Itemset: ['Flash Drive', 'Lab Top'], Support: 0.24\n",
            "Itemset: ['Flash Drive', 'Lab Top Case'], Support: 0.2\n",
            "Itemset: ['Flash Drive', 'Microsoft Office'], Support: 0.28\n",
            "Itemset: ['Lab Top', 'Lab Top Case'], Support: 0.2\n",
            "Itemset: ['Lab Top', 'Microsoft Office'], Support: 0.28\n",
            "Itemset: ['Lab Top', 'Printer'], Support: 0.24\n",
            "Itemset: ['Lab Top', 'Speakers'], Support: 0.24\n",
            "Itemset: ['Lab Top Case', 'Speakers'], Support: 0.2\n",
            "Itemset: ['Flash Drive', 'Lab Top', 'Microsoft Office'], Support: 0.2\n"
          ]
        },
        {
          "output_type": "stream",
          "name": "stderr",
          "text": [
            "/usr/local/lib/python3.10/dist-packages/ipykernel/ipkernel.py:283: DeprecationWarning: `should_run_async` will not call `transform_cell` automatically in the future. Please pass the result to `transformed_cell` argument and any exception that happen during thetransform in `preprocessing_exc_tuple` in IPython 7.17 and above.\n",
            "  and should_run_async(code)\n"
          ]
        }
      ]
    },
    {
      "cell_type": "code",
      "source": [
        "# Generating Association Rules for Brute Force\n",
        "association_rules_brute_force = generate_association_rules(frequent_itemsets, transactions, min_confidence)\n",
        "association_rules_brute_force_set = set((frozenset(antecedent), frozenset(consequent), confidence) for antecedent, consequent, confidence in association_rules_brute_force)"
      ],
      "metadata": {
        "id": "BbTCi0z4kc8v",
        "colab": {
          "base_uri": "https://localhost:8080/"
        },
        "outputId": "9feb657e-07f6-4422-8f46-eb6a159a15e8"
      },
      "execution_count": null,
      "outputs": [
        {
          "output_type": "stream",
          "name": "stderr",
          "text": [
            "/usr/local/lib/python3.10/dist-packages/ipykernel/ipkernel.py:283: DeprecationWarning: `should_run_async` will not call `transform_cell` automatically in the future. Please pass the result to `transformed_cell` argument and any exception that happen during thetransform in `preprocessing_exc_tuple` in IPython 7.17 and above.\n",
            "  and should_run_async(code)\n"
          ]
        }
      ]
    },
    {
      "cell_type": "code",
      "source": [
        "print(\"\\nAssociation Rules (Brute Force): \")\n",
        "for antecedent, consequent, confidence in association_rules_brute_force_set:\n",
        "  print(f\"Rule: {antecedent} -> {consequent}, confidence: {confidence:.2f}\")\n"
      ],
      "metadata": {
        "colab": {
          "base_uri": "https://localhost:8080/"
        },
        "id": "hewEjV7ola_M",
        "outputId": "8f78103d-dde1-46e6-b63a-02c3ba4a102e"
      },
      "execution_count": null,
      "outputs": [
        {
          "output_type": "stream",
          "name": "stdout",
          "text": [
            "\n",
            "Association Rules (Brute Force): \n",
            "Rule: frozenset({'Flash Drive'}) -> frozenset({'Microsoft Office'}), confidence: 0.70\n",
            "Rule: frozenset({'Microsoft Office'}) -> frozenset({'Lab Top'}), confidence: 0.78\n",
            "Rule: frozenset({'Speakers'}) -> frozenset({'Lab Top'}), confidence: 0.67\n",
            "Rule: frozenset({'Microsoft Office'}) -> frozenset({'Flash Drive'}), confidence: 0.78\n",
            "Rule: frozenset({'Digital Camera'}) -> frozenset({'Lab Top'}), confidence: 0.67\n",
            "Rule: frozenset({'Printer'}) -> frozenset({'Lab Top'}), confidence: 0.67\n",
            "Rule: frozenset({'Flash Drive', 'Lab Top'}) -> frozenset({'Microsoft Office'}), confidence: 0.83\n",
            "Rule: frozenset({'Anti-Virus'}) -> frozenset({'Lab Top'}), confidence: 0.71\n",
            "Rule: frozenset({'Microsoft Office', 'Lab Top'}) -> frozenset({'Flash Drive'}), confidence: 0.71\n",
            "Rule: frozenset({'Flash Drive'}) -> frozenset({'Lab Top'}), confidence: 0.60\n",
            "Rule: frozenset({'Flash Drive', 'Microsoft Office'}) -> frozenset({'Lab Top'}), confidence: 0.71\n"
          ]
        },
        {
          "output_type": "stream",
          "name": "stderr",
          "text": [
            "/usr/local/lib/python3.10/dist-packages/ipykernel/ipkernel.py:283: DeprecationWarning: `should_run_async` will not call `transform_cell` automatically in the future. Please pass the result to `transformed_cell` argument and any exception that happen during thetransform in `preprocessing_exc_tuple` in IPython 7.17 and above.\n",
            "  and should_run_async(code)\n"
          ]
        }
      ]
    },
    {
      "cell_type": "code",
      "source": [
        "from mlxtend.frequent_patterns import apriori, association_rules\n",
        "from mlxtend.preprocessing import TransactionEncoder\n",
        "import pandas as pd\n",
        "import time\n",
        "\n",
        "# Assuming transactions and min_support, min_confidence are defined earlier in the code\n",
        "te = TransactionEncoder()\n",
        "te_ary = te.fit(transactions).transform(transactions)\n",
        "df_encoded = pd.DataFrame(te_ary, columns=te.columns_)\n",
        "\n",
        "# Run Apriori Algorithm\n",
        "start_time = time.perf_counter()\n",
        "frequent_itemsets_apriori = apriori(df_encoded, min_support=min_support, use_colnames=True)\n",
        "end_time = time.perf_counter()\n",
        "apriori_time = end_time - start_time\n",
        "\n",
        "\n",
        "#print(f\"\\nApriori Time : {apriori_time}\")\n",
        "\n",
        "# Check if any frequent itemsets were found\n",
        "if frequent_itemsets_apriori.empty:\n",
        "    print(\"No frequent itemsets were found. Exiting.\")\n",
        "else:\n",
        "    print(\"\\nFrequent Itemsets (Apriori):\")\n",
        "    print(frequent_itemsets_apriori)\n",
        "\n",
        "    # Generate association rules if frequent itemsets exist\n",
        "    association_rules_apriori = association_rules(frequent_itemsets_apriori, metric=\"confidence\", min_threshold=min_confidence)\n",
        "    association_rules_apriori_set = set(\n",
        "        (frozenset(antecedent), frozenset(consequent), confidence)\n",
        "        for antecedent, consequent, confidence in zip(\n",
        "            association_rules_apriori['antecedents'],\n",
        "            association_rules_apriori['consequents'],\n",
        "            association_rules_apriori['confidence']\n",
        "        )\n",
        "    )\n",
        "    print(\"\\nAssociation Rules (Apriori):\")\n",
        "    print(association_rules_apriori[['antecedents', 'consequents', 'confidence']])\n"
      ],
      "metadata": {
        "colab": {
          "base_uri": "https://localhost:8080/"
        },
        "id": "rv6KDOJ-648x",
        "outputId": "7cfaa84b-92a4-4840-f7de-40a0b54ea6d7"
      },
      "execution_count": 31,
      "outputs": [
        {
          "output_type": "stream",
          "name": "stdout",
          "text": [
            "Apriori Time : 0.007501359999878332\n",
            "    support                                  itemsets\n",
            "0      0.28                              (Anti-Virus)\n",
            "1      0.36                                (Desk Top)\n",
            "2      0.36                          (Digital Camera)\n",
            "3      0.24                     (External Hard-Drive)\n",
            "4      0.40                             (Flash Drive)\n",
            "5      0.64                                 (Lab Top)\n",
            "6      0.40                            (Lab Top Case)\n",
            "7      0.36                        (Microsoft Office)\n",
            "8      0.36                                 (Printer)\n",
            "9      0.36                                (Speakers)\n",
            "10     0.20                     (Anti-Virus, Lab Top)\n",
            "11     0.20                       (Lab Top, Desk Top)\n",
            "12     0.24                 (Digital Camera, Lab Top)\n",
            "13     0.24                    (Flash Drive, Lab Top)\n",
            "14     0.20               (Flash Drive, Lab Top Case)\n",
            "15     0.28           (Flash Drive, Microsoft Office)\n",
            "16     0.20                   (Lab Top Case, Lab Top)\n",
            "17     0.28               (Microsoft Office, Lab Top)\n",
            "18     0.24                        (Printer, Lab Top)\n",
            "19     0.24                       (Speakers, Lab Top)\n",
            "20     0.20                  (Speakers, Lab Top Case)\n",
            "21     0.20  (Flash Drive, Microsoft Office, Lab Top)\n",
            "\n",
            "Association Rules (Apriori):\n",
            "                        antecedents         consequents  confidence\n",
            "0                      (Anti-Virus)           (Lab Top)    0.714286\n",
            "1                  (Digital Camera)           (Lab Top)    0.666667\n",
            "2                     (Flash Drive)           (Lab Top)    0.600000\n",
            "3                     (Flash Drive)  (Microsoft Office)    0.700000\n",
            "4                (Microsoft Office)       (Flash Drive)    0.777778\n",
            "5                (Microsoft Office)           (Lab Top)    0.777778\n",
            "6                         (Printer)           (Lab Top)    0.666667\n",
            "7                        (Speakers)           (Lab Top)    0.666667\n",
            "8   (Flash Drive, Microsoft Office)           (Lab Top)    0.714286\n",
            "9            (Flash Drive, Lab Top)  (Microsoft Office)    0.833333\n",
            "10      (Microsoft Office, Lab Top)       (Flash Drive)    0.714286\n"
          ]
        },
        {
          "output_type": "stream",
          "name": "stderr",
          "text": [
            "/usr/local/lib/python3.10/dist-packages/ipykernel/ipkernel.py:283: DeprecationWarning: `should_run_async` will not call `transform_cell` automatically in the future. Please pass the result to `transformed_cell` argument and any exception that happen during thetransform in `preprocessing_exc_tuple` in IPython 7.17 and above.\n",
            "  and should_run_async(code)\n"
          ]
        }
      ]
    },
    {
      "cell_type": "code",
      "source": [
        "from mlxtend.frequent_patterns import fpgrowth, association_rules\n",
        "import pandas as pd\n",
        "import time\n",
        "\n",
        "# Assuming df_encoded, min_support, and min_confidence are defined earlier in the code\n",
        "\n",
        "# Run FP-Growth Algorithm\n",
        "start_time = time.perf_counter()\n",
        "frequent_itemsets_fp = fpgrowth(df_encoded, min_support=min_support, use_colnames=True)\n",
        "end_time = time.perf_counter()\n",
        "fp_growth_time = end_time - start_time\n",
        "\n",
        "\n",
        "#print(f\"\\nFP-Growth Time : {fp_growth_time}\")\n",
        "\n",
        "# Check if any frequent itemsets were found\n",
        "if frequent_itemsets_fp.empty:\n",
        "    print(\"No frequent itemsets were found. Exiting.\")\n",
        "else:\n",
        "    print(\"\\nFrequent Itemsets (FP-Growth):\")\n",
        "    print(frequent_itemsets_fp)\n",
        "\n",
        "    # Create dictionary of frequent itemsets\n",
        "    frequent_itemsets_fp_dict = {tuple(row['itemsets']): row['support'] for _, row in frequent_itemsets_fp.iterrows()}\n",
        "\n",
        "    # Generate association rules if frequent itemsets exist\n",
        "    association_rules_fp_growth = association_rules(frequent_itemsets_fp, metric='confidence', min_threshold=min_confidence)\n",
        "    association_rules_fp_growth_set = set(\n",
        "        (frozenset(antecedents), frozenset(consequents), confidence)\n",
        "        for antecedents, consequents, confidence in zip(\n",
        "            association_rules_fp_growth['antecedents'],\n",
        "            association_rules_fp_growth['consequents'],\n",
        "            association_rules_fp_growth['confidence']\n",
        "        )\n",
        "    )\n",
        "    print(\"\\nAssociation Rules (FP-Growth):\")\n",
        "    print(association_rules_fp_growth[['antecedents', 'consequents', 'confidence']])"
      ],
      "metadata": {
        "colab": {
          "base_uri": "https://localhost:8080/"
        },
        "id": "r3mSyROW7PQe",
        "outputId": "1f5f685a-ded0-4c48-bdf9-132624829f20"
      },
      "execution_count": 32,
      "outputs": [
        {
          "output_type": "stream",
          "name": "stdout",
          "text": [
            "\n",
            "FP-Growth Time : 0.006790673000068637\n",
            "\n",
            "Frequent Itemsets (FP-Growth):\n",
            "    support                                  itemsets\n",
            "0      0.64                                 (Lab Top)\n",
            "1      0.40                             (Flash Drive)\n",
            "2      0.36                                (Speakers)\n",
            "3      0.36                        (Microsoft Office)\n",
            "4      0.36                                (Desk Top)\n",
            "5      0.28                              (Anti-Virus)\n",
            "6      0.40                            (Lab Top Case)\n",
            "7      0.36                                 (Printer)\n",
            "8      0.36                          (Digital Camera)\n",
            "9      0.24                     (External Hard-Drive)\n",
            "10     0.24                    (Flash Drive, Lab Top)\n",
            "11     0.20               (Flash Drive, Lab Top Case)\n",
            "12     0.24                       (Speakers, Lab Top)\n",
            "13     0.20                  (Speakers, Lab Top Case)\n",
            "14     0.28           (Flash Drive, Microsoft Office)\n",
            "15     0.28               (Microsoft Office, Lab Top)\n",
            "16     0.20  (Flash Drive, Microsoft Office, Lab Top)\n",
            "17     0.20                       (Lab Top, Desk Top)\n",
            "18     0.20                     (Anti-Virus, Lab Top)\n",
            "19     0.20                   (Lab Top Case, Lab Top)\n",
            "20     0.24                        (Printer, Lab Top)\n",
            "21     0.24                 (Digital Camera, Lab Top)\n",
            "\n",
            "Association Rules (FP-Growth):\n",
            "                        antecedents         consequents  confidence\n",
            "0                     (Flash Drive)           (Lab Top)    0.600000\n",
            "1                        (Speakers)           (Lab Top)    0.666667\n",
            "2                     (Flash Drive)  (Microsoft Office)    0.700000\n",
            "3                (Microsoft Office)       (Flash Drive)    0.777778\n",
            "4                (Microsoft Office)           (Lab Top)    0.777778\n",
            "5   (Flash Drive, Microsoft Office)           (Lab Top)    0.714286\n",
            "6            (Flash Drive, Lab Top)  (Microsoft Office)    0.833333\n",
            "7       (Microsoft Office, Lab Top)       (Flash Drive)    0.714286\n",
            "8                      (Anti-Virus)           (Lab Top)    0.714286\n",
            "9                         (Printer)           (Lab Top)    0.666667\n",
            "10                 (Digital Camera)           (Lab Top)    0.666667\n"
          ]
        },
        {
          "output_type": "stream",
          "name": "stderr",
          "text": [
            "/usr/local/lib/python3.10/dist-packages/ipykernel/ipkernel.py:283: DeprecationWarning: `should_run_async` will not call `transform_cell` automatically in the future. Please pass the result to `transformed_cell` argument and any exception that happen during thetransform in `preprocessing_exc_tuple` in IPython 7.17 and above.\n",
            "  and should_run_async(code)\n"
          ]
        }
      ]
    },
    {
      "cell_type": "code",
      "source": [
        "# Compare association rules between brute force, apriori, and fp-growth\n",
        "print('\\nIntersection of Association Rules (Brute Force vs Apriori):')\n",
        "common_rules_bf_apriori = association_rules_brute_force_set.intersection(association_rules_apriori_set)\n",
        "for rule in common_rules_bf_apriori:\n",
        "    print(f'Rule: {set(rule[0])} -> {set(rule[1])}, Confidence: {rule[2]:.2f}')\n",
        "\n",
        "print('\\nIntersection of Association Rules (Brute Force vs FP-Growth):')\n",
        "common_rules_bf_fp = association_rules_brute_force_set.intersection(association_rules_fp_growth_set)\n",
        "for rule in common_rules_bf_fp:\n",
        "    print(f'Rule: {set(rule[0])} -> {set(rule[1])}, Confidence: {rule[2]:.2f}')\n",
        "\n",
        "print('\\nIntersection of Association Rules (Apriori vs FP-Growth):')\n",
        "common_rules_apriori_fp = association_rules_apriori_set.intersection(association_rules_fp_growth_set)\n",
        "for rule in common_rules_apriori_fp:\n",
        "    print(f'Rule: {set(rule[0])} -> {set(rule[1])}, Confidence: {rule[2]:.2f}')"
      ],
      "metadata": {
        "colab": {
          "base_uri": "https://localhost:8080/"
        },
        "id": "jfh9n-bH3_uV",
        "outputId": "fc3e3166-d99c-429b-8f86-bafb471bdc2f"
      },
      "execution_count": null,
      "outputs": [
        {
          "output_type": "stream",
          "name": "stdout",
          "text": [
            "\n",
            "Intersection of Association Rules (Brute Force vs Apriori):\n",
            "Rule: {'Flash Drive'} -> {'Microsoft Office'}, Confidence: 0.70\n",
            "Rule: {'Microsoft Office'} -> {'Lab Top'}, Confidence: 0.78\n",
            "Rule: {'Speakers'} -> {'Lab Top'}, Confidence: 0.67\n",
            "Rule: {'Microsoft Office'} -> {'Flash Drive'}, Confidence: 0.78\n",
            "Rule: {'Digital Camera'} -> {'Lab Top'}, Confidence: 0.67\n",
            "Rule: {'Printer'} -> {'Lab Top'}, Confidence: 0.67\n",
            "Rule: {'Anti-Virus'} -> {'Lab Top'}, Confidence: 0.71\n",
            "Rule: {'Flash Drive'} -> {'Lab Top'}, Confidence: 0.60\n",
            "Rule: {'Flash Drive', 'Microsoft Office'} -> {'Lab Top'}, Confidence: 0.71\n",
            "Rule: {'Flash Drive', 'Lab Top'} -> {'Microsoft Office'}, Confidence: 0.83\n",
            "Rule: {'Microsoft Office', 'Lab Top'} -> {'Flash Drive'}, Confidence: 0.71\n",
            "\n",
            "Intersection of Association Rules (Brute Force vs FP-Growth):\n",
            "Rule: {'Flash Drive'} -> {'Microsoft Office'}, Confidence: 0.70\n",
            "Rule: {'Microsoft Office'} -> {'Lab Top'}, Confidence: 0.78\n",
            "Rule: {'Speakers'} -> {'Lab Top'}, Confidence: 0.67\n",
            "Rule: {'Microsoft Office'} -> {'Flash Drive'}, Confidence: 0.78\n",
            "Rule: {'Printer'} -> {'Lab Top'}, Confidence: 0.67\n",
            "Rule: {'Digital Camera'} -> {'Lab Top'}, Confidence: 0.67\n",
            "Rule: {'Anti-Virus'} -> {'Lab Top'}, Confidence: 0.71\n",
            "Rule: {'Flash Drive'} -> {'Lab Top'}, Confidence: 0.60\n",
            "Rule: {'Flash Drive', 'Microsoft Office'} -> {'Lab Top'}, Confidence: 0.71\n",
            "Rule: {'Flash Drive', 'Lab Top'} -> {'Microsoft Office'}, Confidence: 0.83\n",
            "Rule: {'Microsoft Office', 'Lab Top'} -> {'Flash Drive'}, Confidence: 0.71\n",
            "\n",
            "Intersection of Association Rules (Apriori vs FP-Growth):\n",
            "Rule: {'Flash Drive'} -> {'Microsoft Office'}, Confidence: 0.70\n",
            "Rule: {'Microsoft Office'} -> {'Lab Top'}, Confidence: 0.78\n",
            "Rule: {'Speakers'} -> {'Lab Top'}, Confidence: 0.67\n",
            "Rule: {'Microsoft Office'} -> {'Flash Drive'}, Confidence: 0.78\n",
            "Rule: {'Printer'} -> {'Lab Top'}, Confidence: 0.67\n",
            "Rule: {'Digital Camera'} -> {'Lab Top'}, Confidence: 0.67\n",
            "Rule: {'Anti-Virus'} -> {'Lab Top'}, Confidence: 0.71\n",
            "Rule: {'Flash Drive'} -> {'Lab Top'}, Confidence: 0.60\n",
            "Rule: {'Flash Drive', 'Microsoft Office'} -> {'Lab Top'}, Confidence: 0.71\n",
            "Rule: {'Flash Drive', 'Lab Top'} -> {'Microsoft Office'}, Confidence: 0.83\n",
            "Rule: {'Microsoft Office', 'Lab Top'} -> {'Flash Drive'}, Confidence: 0.71\n"
          ]
        },
        {
          "output_type": "stream",
          "name": "stderr",
          "text": [
            "/usr/local/lib/python3.10/dist-packages/ipykernel/ipkernel.py:283: DeprecationWarning: `should_run_async` will not call `transform_cell` automatically in the future. Please pass the result to `transformed_cell` argument and any exception that happen during thetransform in `preprocessing_exc_tuple` in IPython 7.17 and above.\n",
            "  and should_run_async(code)\n"
          ]
        }
      ]
    },
    {
      "cell_type": "code",
      "source": [
        "print('\\nTiming Performance:')\n",
        "print(f'Brute Force Time: {brute_force_time:.4f} seconds')\n",
        "print(f'Apriori Time: {apriori_time:.4f} seconds')\n",
        "print(f'FP-Growth Time: {fp_growth_time:.4f} seconds')"
      ],
      "metadata": {
        "colab": {
          "base_uri": "https://localhost:8080/"
        },
        "id": "8MoYqOiypli0",
        "outputId": "b8e1f49e-f5b9-4b86-adbc-f04c9c555958"
      },
      "execution_count": null,
      "outputs": [
        {
          "output_type": "stream",
          "name": "stdout",
          "text": [
            "\n",
            "Timing Performance:\n",
            "Brute Force Time: 0.0060 seconds\n",
            "Apriori Time: 0.0151 seconds\n",
            "FP-Growth Time: 0.0049 seconds\n"
          ]
        },
        {
          "output_type": "stream",
          "name": "stderr",
          "text": [
            "/usr/local/lib/python3.10/dist-packages/ipykernel/ipkernel.py:283: DeprecationWarning: `should_run_async` will not call `transform_cell` automatically in the future. Please pass the result to `transformed_cell` argument and any exception that happen during thetransform in `preprocessing_exc_tuple` in IPython 7.17 and above.\n",
            "  and should_run_async(code)\n"
          ]
        }
      ]
    }
  ]
}